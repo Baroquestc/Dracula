{
 "cells": [
  {
   "cell_type": "code",
   "execution_count": 1,
   "source": [
    "import cv2"
   ],
   "outputs": [],
   "metadata": {}
  },
  {
   "cell_type": "markdown",
   "source": [
    "# 1.1 读取图像"
   ],
   "metadata": {}
  },
  {
   "cell_type": "markdown",
   "source": [
    "### retval = cv2.imread(filename[,flags])\n",
    "- retval: 读取到的图像，未读到返回None\n",
    "- filename: 读取路径\n",
    "- flages: 读取标记：\n",
    "    - cv2.IMREAD_UNCHANGE / -1: 保持原格式不变\n",
    "    - cv2.IMREAD_GRAYSCALE / 0: 调整为灰度图像\n",
    "    - cv2.IMREAD_COLOR / 1: 调整为3通道RGB图像（默认）\n",
    "    - ..."
   ],
   "metadata": {}
  },
  {
   "cell_type": "code",
   "execution_count": 2,
   "source": [
    "img = cv2.imread(\"/Users/tanjun/Desktop/加班截图/WechatIMG115.jpeg\", -1)"
   ],
   "outputs": [],
   "metadata": {}
  },
  {
   "cell_type": "markdown",
   "source": [
    "# 1.2 显示图像"
   ],
   "metadata": {}
  },
  {
   "cell_type": "markdown",
   "source": [
    "### 1.2.1 None = cv2.namedWindow(winname)\n",
    "- 创建命名窗口(可省略，imshow会创建)"
   ],
   "metadata": {}
  },
  {
   "cell_type": "code",
   "execution_count": 3,
   "source": [
    "cv2.namedWindow(\"show\")"
   ],
   "outputs": [],
   "metadata": {}
  },
  {
   "cell_type": "markdown",
   "source": [
    "### 1.2.2 None = cv2.imshow(winname, mat)\n",
    "- winname:窗口名\n",
    "- mat:要显示的图像"
   ],
   "metadata": {}
  },
  {
   "cell_type": "code",
   "execution_count": 4,
   "source": [
    "cv2.imshow(\"show\", img)"
   ],
   "outputs": [],
   "metadata": {}
  },
  {
   "cell_type": "markdown",
   "source": [
    "### 1.2.3 retval = cv2.waitKey([delay])\n",
    "- retvall:返回值，没有键按下返回-1，有键按下返回键的ASCII码\n",
    "- delay:等待键盘触发时间，单位ms，当值为负数或0时，无限等待，默认为0"
   ],
   "metadata": {}
  },
  {
   "cell_type": "code",
   "execution_count": 9,
   "source": [
    "retval = cv2.waitKey(10)"
   ],
   "outputs": [],
   "metadata": {}
  },
  {
   "cell_type": "code",
   "execution_count": 10,
   "source": [
    "retval"
   ],
   "outputs": [
    {
     "output_type": "execute_result",
     "data": {
      "text/plain": [
       "-1"
      ]
     },
     "metadata": {},
     "execution_count": 10
    }
   ],
   "metadata": {}
  },
  {
   "cell_type": "code",
   "execution_count": 11,
   "source": [
    "# 利用waitKey函数交互\n",
    "img = cv2.imread(\"/Users/tanjun/Desktop/加班截图/WechatIMG115.jpeg\")\n",
    "cv2.imshow(\"show\", img)\n",
    "retval = cv2.waitKey()\n",
    "if retval == ord('a'):\n",
    "    cv2.imshow(\"press_a\", img)\n",
    "elif retval == ord('b'):\n",
    "    cv2.imshow(\"press_b\", img)"
   ],
   "outputs": [],
   "metadata": {}
  },
  {
   "cell_type": "code",
   "execution_count": 12,
   "source": [
    "# 利用waitKey实现程序暂停\n",
    "img = cv2.imread(\"/Users/tanjun/Desktop/加班截图/WechatIMG115.jpeg\")\n",
    "cv2.imshow(\"show\", img)\n",
    "retval = cv2.waitKey()\n",
    "if retval != -1:\n",
    "    print(\"触发了按键！\")"
   ],
   "outputs": [
    {
     "output_type": "stream",
     "name": "stdout",
     "text": [
      "触发了按键！\n"
     ]
    }
   ],
   "metadata": {}
  },
  {
   "cell_type": "markdown",
   "source": [
    "### 1.2.4 None = cv2.destroyWindow(winname)\n",
    "- 释放（销毁）指定窗口"
   ],
   "metadata": {}
  },
  {
   "cell_type": "code",
   "execution_count": 13,
   "source": [
    "# 当按下任意键时窗口被释放\n",
    "img = cv2.imread(\"/Users/tanjun/Desktop/加班截图/WechatIMG115.jpeg\")\n",
    "cv2.imshow(\"show\", img)\n",
    "cv2.waitKey()\n",
    "cv2.destroyWindow(\"show\")"
   ],
   "outputs": [],
   "metadata": {}
  },
  {
   "cell_type": "markdown",
   "source": [
    "### 1.2.5 None = cv2.destroyAllWindow(winname)\n",
    "- 释放（销毁）所有窗口"
   ],
   "metadata": {}
  },
  {
   "cell_type": "code",
   "execution_count": null,
   "source": [
    "img = cv2.imread(\"/Users/tanjun/Desktop/加班截图/WechatIMG115.jpeg\")\n",
    "cv2.imshow(\"show\", img)\n",
    "cv2.waitKey()\n",
    "cv2.destroyAllWindows()"
   ],
   "outputs": [],
   "metadata": {}
  },
  {
   "cell_type": "markdown",
   "source": [
    "# 1.3 保存图片"
   ],
   "metadata": {}
  },
  {
   "cell_type": "markdown",
   "source": [
    "### retval = cv2.imwrite(filename, img[,params])\n",
    "- retval:保存成功返回True,不成功返回False"
   ],
   "metadata": {}
  },
  {
   "cell_type": "code",
   "execution_count": 17,
   "source": [
    "img = cv2.imread(\"/Users/tanjun/Desktop/加班截图/WechatIMG115.jpeg\")\n",
    "cv2.imwrite(\"./img.png\", img)"
   ],
   "outputs": [
    {
     "output_type": "execute_result",
     "data": {
      "text/plain": [
       "True"
      ]
     },
     "metadata": {},
     "execution_count": 17
    }
   ],
   "metadata": {}
  },
  {
   "cell_type": "code",
   "execution_count": null,
   "source": [],
   "outputs": [],
   "metadata": {}
  }
 ],
 "metadata": {
  "kernelspec": {
   "name": "python3",
   "display_name": "Python 3.8.11 64-bit ('nerf': conda)"
  },
  "language_info": {
   "codemirror_mode": {
    "name": "ipython",
    "version": 3
   },
   "file_extension": ".py",
   "mimetype": "text/x-python",
   "name": "python",
   "nbconvert_exporter": "python",
   "pygments_lexer": "ipython3",
   "version": "3.8.11"
  },
  "interpreter": {
   "hash": "cd21278f00e621ca4536acac20d9c6a173bf6c55cd9941f9dd87a9720ccbd0f0"
  }
 },
 "nbformat": 4,
 "nbformat_minor": 5
}